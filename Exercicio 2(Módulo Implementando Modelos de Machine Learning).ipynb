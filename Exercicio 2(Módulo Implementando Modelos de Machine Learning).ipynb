{
 "cells": [
  {
   "cell_type": "code",
   "execution_count": null,
   "metadata": {},
   "outputs": [],
   "source": [
    "import pandas as pd\n",
    "import numpy as np\n",
    "from sklearn.datasets import make_friedman1, make_classification"
   ]
  },
  {
   "cell_type": "code",
   "execution_count": null,
   "metadata": {},
   "outputs": [],
   "source": [
    "\n",
    "def getData2():\n",
    "    X, y = make_classification(n_classes=2, n_features=5, n_samples=10000, random_state = 0)\n",
    "    return X, y"
   ]
  },
  {
   "cell_type": "code",
   "execution_count": null,
   "metadata": {},
   "outputs": [],
   "source": [
    "\n",
    "class regLinear():\n",
    "    \n",
    "    def __init__(self, learning_rate, num_steps):\n",
    "        self.learning_rate = learning_rate\n",
    "        self.num_steps = num_steps\n",
    "        \n",
    "    def fit(self, X, y):\n",
    "        y = y.reshape(-1,1)\n",
    "        m = X.shape[0] \n",
    "        k = X.shape[1] \n",
    "        theta = np.random.randn(k+1,1) \n",
    "        X_b = np.c_[np.ones((m, 1)), X] \n",
    "        for step in range(self.num_steps):\n",
    "            gradients = 2/m * X_b.T.dot(X_b.dot(theta) - y)\n",
    "            theta = theta - self.learning_rate * gradients\n",
    "        self.theta_final = theta\n",
    "        print(\"modelo treinado.\")\n",
    "        \n",
    "    def predict(self, X):\n",
    "        m = X.shape[0]\n",
    "        X_b = np.c_[np.ones((m, 1)), X]\n",
    "        preds = X_b.dot(self.theta_final)\n",
    "        return preds.reshape(-1,)"
   ]
  },
  {
   "cell_type": "code",
   "execution_count": null,
   "metadata": {},
   "outputs": [],
   "source": [
    "def regLinear(x): \n",
    "    return 2*x \n",
    "x_final = None\n",
    "for step in range(num_steps):\n",
    "    if step == 0:\n",
    "        x_final = initial_x\n",
    "    else:\n",
    "        x_final = x_final - learning_rate * gradiente_f(x_final)\n",
    "    print(\"Step \", step, \" | x: \", x_final, \" | f(x): \", f(x_final))"
   ]
  },
  {
   "cell_type": "code",
   "execution_count": null,
   "metadata": {},
   "outputs": [],
   "source": [
    "lm = LinearRegression().fit(X, y)"
   ]
  },
  {
   "cell_type": "code",
   "execution_count": null,
   "metadata": {},
   "outputs": [],
   "source": [
    "plt.figure(figsize=[8,6])\n",
    "plt.scatter(X, y, c = \"blue\")\n",
    "plt.plot(X, lm.predict(X), c = 'green', lw = 3, label = 'reg. Linear')\n",
    "plt.legend(fontsize = 14)\n",
    "plt.xlabel(\"x\", fontsize=14)\n",
    "plt.ylabel(\"y\", fontsize=14)\n",
    "plt.axis([-3, 3, 0, 10])\n",
    "plt.show()"
   ]
  },
  {
   "cell_type": "code",
   "execution_count": null,
   "metadata": {},
   "outputs": [],
   "source": [
    "for grau in [1,2,20,300]:  \n",
    "    \n",
    "    print(\"grau: \", grau)\n",
    "    \n",
    "    polyfit = polyFit(X, y, grau)\n",
    "    \n",
    "    ypoly = polyfit.predict(X)\n",
    "    \n",
    "    plt.figure(figsize=[6,5])\n",
    "    plt.plot(X, ypoly, label=str(grau), lw=2, c = 'red')\n",
    "    plt.scatter(X, y, c = \"blue\")\n",
    "    plt.axis([-3, 3, 0, 10])\n",
    "    plt.show()\n",
    "    print(\"RMSE:\")\n",
    "    print(np.sqrt(np.mean(np.square(y - polyfit.predict(X)))))\n",
    "    print(\"------------------------------------------------\\n\\n\")"
   ]
  },
  {
   "cell_type": "code",
   "execution_count": null,
   "metadata": {},
   "outputs": [],
   "source": [
    "learning_rate = 0.01\n",
    "num_steps = 100\n",
    "\n",
    " \n",
    "X_b = np.c_[np.ones(X.shape[0]), X]\n",
    "\n",
    "\n",
    "theta = np.random.randn(X_b.shape[1],1)\n",
    "\n",
    "\n",
    "for step in range(num_steps):\n",
    "    \n",
    "    print('passo:', step)\n",
    "    print('theta:', theta.reshape(-1,))\n",
    "    \n",
    "     \n",
    "    yscores = sigmoid(X_b.dot(theta))\n",
    "    \n",
    "    \n",
    "    gradient = X_b.T.dot(yscores - y)\n",
    "    \n",
    "    \n",
    "    theta = theta - learning_rate * gradient\n",
    "    \n",
    "    \n",
    "    logloss_step = logLossCost(ytrue = y, ypred_probs = yscores)\n",
    "    print(\"Log Loss:\", logloss_step)\n",
    "    print('\\n-----------------------------------------------------------\\n')\n",
    "    \n",
    "theta_final = theta"
   ]
  }
 ],
 "metadata": {
  "kernelspec": {
   "display_name": "Python 3",
   "language": "python",
   "name": "python3"
  },
  "language_info": {
   "codemirror_mode": {
    "name": "ipython",
    "version": 3
   },
   "file_extension": ".py",
   "mimetype": "text/x-python",
   "name": "python",
   "nbconvert_exporter": "python",
   "pygments_lexer": "ipython3",
   "version": "3.8.3"
  }
 },
 "nbformat": 4,
 "nbformat_minor": 4
}
