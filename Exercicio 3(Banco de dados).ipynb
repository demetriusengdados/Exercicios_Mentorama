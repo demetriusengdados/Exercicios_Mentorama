{
  "nbformat": 4,
  "nbformat_minor": 0,
  "metadata": {
    "colab": {
      "name": "Exercicio 3(Banco de dados).ipynb",
      "provenance": []
    },
    "kernelspec": {
      "name": "python3",
      "display_name": "Python 3"
    }
  },
  "cells": [
    {
      "cell_type": "code",
      "metadata": {
        "id": "tmLmGS3FVJRM"
      },
      "source": [
        "import sqlite3"
      ],
      "execution_count": 2,
      "outputs": []
    },
    {
      "cell_type": "code",
      "metadata": {
        "id": "Tme35eTDVFzS",
        "outputId": "45f87a79-2fa9-461d-c357-fde36ae755f4",
        "colab": {
          "base_uri": "https://localhost:8080/"
        }
      },
      "source": [
        "conn = sqlite3.connect('Primeiro_banco_de_dados.db')\n",
        "\n",
        "print(conn)"
      ],
      "execution_count": 3,
      "outputs": [
        {
          "output_type": "stream",
          "text": [
            "<sqlite3.Connection object at 0x7fe8174f0730>\n"
          ],
          "name": "stdout"
        }
      ]
    },
    {
      "cell_type": "code",
      "metadata": {
        "id": "q7ssKlGjVkHT"
      },
      "source": [
        "cursor = conn.cursor"
      ],
      "execution_count": 4,
      "outputs": []
    },
    {
      "cell_type": "code",
      "metadata": {
        "id": "AOvoQVqYUCMw"
      },
      "source": [
        "dados_profissionais = [('ID', 1, 'Graduação', 'Matematica', 'Cargo', 'professor', 'Salario', 3500.89,'Tempo', 3),\n",
        "                      ('ID', 2, 'Graduação', 'Geografia', 'Cargo','orientador', 'Salario', 'Tempo', 2850.8, 1),\n",
        "                      ('ID', 3, 'Graduação', 'Historia', 'Cargo','Orientador', 'Salario', 'Tempo', 3200.45, 1),\n",
        "                      ('ID', 4, 'Graduação', 'Fisica', 'Cargo','Professor', 'Salario', 'Tempo', 1890.33, 2)]"
      ],
      "execution_count": 5,
      "outputs": []
    },
    {
      "cell_type": "code",
      "metadata": {
        "id": "LT8F5_QQUCM_"
      },
      "source": [
        "cursor.execute(\"CREATE TABLE dados_profissionais(Graduação text, Cargo text, Salario integer, Tempo integer)\")"
      ],
      "execution_count": null,
      "outputs": []
    },
    {
      "cell_type": "code",
      "metadata": {
        "id": "ZaYIH2fzUCNM",
        "outputId": "0e9e11dc-5ac8-4e6e-a721-e999e093178f",
        "colab": {
          "base_uri": "https://localhost:8080/"
        }
      },
      "source": [
        "cursor.execute(\"SELECT name from sqlite_master where type = 'table'\")\n",
        "cursor.fetchall()"
      ],
      "execution_count": null,
      "outputs": [
        {
          "output_type": "execute_result",
          "data": {
            "text/plain": [
              "[('dados_profissionais',)]"
            ]
          },
          "metadata": {
            "tags": []
          },
          "execution_count": 8
        }
      ]
    },
    {
      "cell_type": "code",
      "metadata": {
        "id": "0Y4wjWNFZcJd"
      },
      "source": [
        "cursor.execute(\"SELECT SUM(ID) FROM dados_profissionais\")"
      ],
      "execution_count": null,
      "outputs": []
    }
  ]
}