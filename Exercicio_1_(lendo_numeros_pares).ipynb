{
  "nbformat": 4,
  "nbformat_minor": 0,
  "metadata": {
    "colab": {
      "name": "Exercicio 1 (lendo numeros pares).ipynb",
      "provenance": []
    },
    "kernelspec": {
      "name": "python3",
      "display_name": "Python 3"
    }
  },
  "cells": [
    {
      "cell_type": "code",
      "metadata": {
        "id": "1sRBnq3oh5qc"
      },
      "source": [
        "num = [[], []]\n",
        "valor = 0\n",
        "for c in range(0, 6):\n",
        "  valor = int(input(f'Digite o valor {c} valor: '))\n",
        "  if valor % 2 == 0:\n",
        "    num[0].append(valor)\n",
        "  else:\n",
        "    num[1].append(valor)\n",
        "num[0].sort()\n",
        "num[1].sort()\n",
        "print(f'Os valores pares são: {num[0]}')\n",
        "print(f'Os valores impares são: {num[1]}')"
      ],
      "execution_count": null,
      "outputs": []
    },
    {
      "cell_type": "code",
      "metadata": {
        "id": "MdYW_9zdmmTp"
      },
      "source": [
        ""
      ],
      "execution_count": null,
      "outputs": []
    }
  ]
}