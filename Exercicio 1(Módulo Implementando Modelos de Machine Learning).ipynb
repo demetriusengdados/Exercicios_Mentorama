{
 "cells": [
  {
   "cell_type": "code",
   "execution_count": null,
   "metadata": {},
   "outputs": [],
   "source": [
    "import pandas as pd\n",
    "import numpy as np\n",
    "from sklearn.datasets import make_friedman1, make_classification"
   ]
  },
  {
   "cell_type": "code",
   "execution_count": null,
   "metadata": {},
   "outputs": [],
   "source": [
    "def getData():\n",
    "    X, y = make_friedman1(n_samples = 10000, n_features = 5, noise = 5.0, random_state = 0)\n",
    "    return X, y"
   ]
  },
  {
   "cell_type": "code",
   "execution_count": null,
   "metadata": {},
   "outputs": [],
   "source": [
    "\n",
    "class regLinear():\n",
    "    \n",
    "    def __init__(self, learning_rate, num_steps):\n",
    "        self.learning_rate = learning_rate\n",
    "        self.num_steps = num_steps\n",
    "        \n",
    "    def fit(self, X, y):\n",
    "        y = y.reshape(-1,1)\n",
    "        m = X.shape[0] \n",
    "        k = X.shape[1] \n",
    "        theta = np.random.randn(k+1,1) \n",
    "        X_b = np.c_[np.ones((m, 1)), X] \n",
    "        for step in range(self.num_steps):\n",
    "            gradients = 2/m * X_b.T.dot(X_b.dot(theta) - y)\n",
    "            theta = theta - self.learning_rate * gradients\n",
    "        self.theta_final = theta\n",
    "        print(\"modelo treinado.\")\n",
    "        \n",
    "    def predict(self, X):\n",
    "        m = X.shape[0]\n",
    "        X_b = np.c_[np.ones((m, 1)), X]\n",
    "        preds = X_b.dot(self.theta_final)\n",
    "        return preds.reshape(-1,)\n",
    "    \n",
    "    return regLinear()\n",
    "\n",
    "print(regLinear)"
   ]
  },
  {
   "cell_type": "code",
   "execution_count": null,
   "metadata": {},
   "outputs": [],
   "source": [
    "plt.figure(figsize=[8,6])\n",
    "plt.scatter(X, y, c = 'blue')\n",
    "plt.xlabel(\"X\", fontsize = 14, fontweight = 'bold')\n",
    "plt.ylabel(\"y\", fontsize = 14, fontweight = 'bold')\n",
    "plt.show()"
   ]
  },
  {
   "cell_type": "code",
   "execution_count": null,
   "metadata": {},
   "outputs": [],
   "source": [
    "learning_rate = 0.075\n",
    "num_steps = 200\n",
    "\n",
    "m = X.shape[0] \n",
    "k = X.shape[1] \n",
    "\n",
    "theta = np.random.randn(k+1,1)\n",
    "X_b = np.c_[np.ones((m, 1)), X]\n",
    "\n",
    "for step in range(num_steps):\n",
    "    \n",
    "    print('passo:', step)\n",
    "    print('theta:', theta.reshape(-1,))\n",
    "    \n",
    "    \n",
    "    gradients = 2/m * X_b.T.dot(X_b.dot(theta) - y)\n",
    "    \n",
    "    \n",
    "    theta = theta - learning_rate * gradients\n",
    "    \n",
    "    \n",
    "    ypred_step = X_b.dot(theta)\n",
    "    MSE_step = MSE(ytrue = y, ypred = ypred_step)\n",
    "    print(\"MSE:\", MSE_step)\n",
    "    print('\\n-----------------------------------------------------------\\n') "
   ]
  },
  {
   "cell_type": "code",
   "execution_count": null,
   "metadata": {},
   "outputs": [],
   "source": []
  }
 ],
 "metadata": {
  "kernelspec": {
   "display_name": "Python 3",
   "language": "python",
   "name": "python3"
  },
  "language_info": {
   "codemirror_mode": {
    "name": "ipython",
    "version": 3
   },
   "file_extension": ".py",
   "mimetype": "text/x-python",
   "name": "python",
   "nbconvert_exporter": "python",
   "pygments_lexer": "ipython3",
   "version": "3.8.3"
  }
 },
 "nbformat": 4,
 "nbformat_minor": 4
}
