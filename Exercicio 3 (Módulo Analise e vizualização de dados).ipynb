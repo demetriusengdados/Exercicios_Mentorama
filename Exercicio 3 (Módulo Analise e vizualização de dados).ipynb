{
 "cells": [
  {
   "cell_type": "code",
   "execution_count": 5,
   "metadata": {},
   "outputs": [],
   "source": [
    "import matplotlib.pyplot as plt\n",
    "import pandas as pd\n",
    "import numpy as np"
   ]
  },
  {
   "cell_type": "code",
   "execution_count": null,
   "metadata": {},
   "outputs": [],
   "source": [
    "df = pd.read_csv(\"dadosgovbr.csv\")\n",
    "\n",
    "df.head()"
   ]
  },
  {
   "cell_type": "code",
   "execution_count": null,
   "metadata": {},
   "outputs": [],
   "source": [
    "L = []\n",
    "for v in mesh:\n",
    "    x1 = v[0]\n",
    "    x2 = v[1]\n",
    "    value_f = f(x1, x2)\n",
    "    L.append(value_f)"
   ]
  },
  {
   "cell_type": "code",
   "execution_count": null,
   "metadata": {},
   "outputs": [],
   "source": [
    "def detecta_outlier(x, limite = 1.5):\n",
    "    dq = np.percentile(x, 75) - np.percentile(x, 25)\n",
    "    limite_inf = np.maximum(np.percentile(x, 25) - limite * dq, np.min(x))\n",
    "    limite_sup = np.minimum(np.percentile(x, 75) + limite * dq, np.max(x))\n",
    "    print(\"Limite inferior:\", limite_inf)\n",
    "    print(\"Limite superior:\", limite_sup)\n",
    "    return np.where((x < limite_inf) | (x > limite_sup), 1, 0)"
   ]
  },
  {
   "cell_type": "code",
   "execution_count": null,
   "metadata": {},
   "outputs": [],
   "source": [
    "outliers_fare = detecta_outlier(df.Fare)"
   ]
  },
  {
   "cell_type": "code",
   "execution_count": null,
   "metadata": {},
   "outputs": [],
   "source": [
    "df_pclass['total'] = df_pclass['total'] = df_pclass[[0]].values + df_pclass[[1]].values \n",
    "\n",
    "df_pclass"
   ]
  }
 ],
 "metadata": {
  "kernelspec": {
   "display_name": "Python 3",
   "language": "python",
   "name": "python3"
  },
  "language_info": {
   "codemirror_mode": {
    "name": "ipython",
    "version": 3
   },
   "file_extension": ".py",
   "mimetype": "text/x-python",
   "name": "python",
   "nbconvert_exporter": "python",
   "pygments_lexer": "ipython3",
   "version": "3.8.3"
  }
 },
 "nbformat": 4,
 "nbformat_minor": 4
}
