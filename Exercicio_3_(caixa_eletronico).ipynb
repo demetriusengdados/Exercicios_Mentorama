{
  "nbformat": 4,
  "nbformat_minor": 0,
  "metadata": {
    "colab": {
      "name": "Exercicio 3 (caixa eletronico.ipynb",
      "provenance": []
    },
    "kernelspec": {
      "name": "python3",
      "display_name": "Python 3"
    }
  },
  "cells": [
    {
      "cell_type": "code",
      "metadata": {
        "id": "AK-GW_4uha2S"
      },
      "source": [
        "print('=' * 30)\n",
        "print('{:^30}'.format('Banco C6'))\n",
        "print('=' * 30)\n",
        "valor = int(input('Que valor você quer sacar? R$'))\n",
        "total = valor \n",
        "ced = 100\n",
        "totced = 0\n",
        "while True:\n",
        "    if total >= ced:\n",
        "        total -= ced\n",
        "        totced += 1\n",
        "    else:\n",
        "        print(f'Total de {totced} cédulas de R${ced}')\n",
        "        if ced == 50:\n",
        "            ced = 20\n",
        "        elif ced == 20:\n",
        "            ced = 10\n",
        "        elif ced == 10:\n",
        "            ced = 5\n",
        "        elif ced == 5:\n",
        "            ced = 1\n",
        "        totced = 0\n",
        "        if total == 0:\n",
        "            break\n",
        "print('=' * 30)\n",
        "print('Obrigado e volte sempre')"
      ],
      "execution_count": null,
      "outputs": []
    }
  ]
}