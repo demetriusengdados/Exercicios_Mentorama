{
 "cells": [
  {
   "cell_type": "code",
   "execution_count": 7,
   "metadata": {
    "id": "zuM1TZAdUCMI"
   },
   "outputs": [],
   "source": [
    "import sqlite3\n",
    "\n",
    "conn = sqlite3.connect('banco_de_exercicios.db')"
   ]
  },
  {
   "cell_type": "code",
   "execution_count": 8,
   "metadata": {
    "id": "3dMxfBvUUCMd"
   },
   "outputs": [],
   "source": [
    "cursor = conn.cursor()"
   ]
  },
  {
   "cell_type": "code",
   "execution_count": 9,
   "metadata": {},
   "outputs": [
    {
     "data": {
      "text/plain": [
       "[('dados_cadastrais',), ('dados_profissionais',)]"
      ]
     },
     "execution_count": 9,
     "metadata": {},
     "output_type": "execute_result"
    }
   ],
   "source": [
    "cursor.execute(\"SELECT name from sqlite_master where type = 'table'\")\n",
    "cursor.fetchall()"
   ]
  },
  {
   "cell_type": "code",
   "execution_count": 14,
   "metadata": {
    "colab": {
     "base_uri": "https://localhost:8080/"
    },
    "id": "OU18hzjmUCNZ",
    "outputId": "a71613ef-b390-4ef0-a244-bc081693af39"
   },
   "outputs": [
    {
     "data": {
      "text/plain": [
       "[('Matematica', 'Professor', 3500.89, 3),\n",
       " ('Matematica', 'Professor', 3500.89, 3),\n",
       " ('Matematica', 'Professor', 3500.89, 3),\n",
       " ('Fisíca', 'Professor', 1890.33, 2),\n",
       " ('Fisíca', 'Professor', 1890.33, 2),\n",
       " ('Fisíca', 'Professor', 1890.33, 2),\n",
       " ('Geografia', 'Orientador', 2850.8, 1),\n",
       " ('História', 'Orientador', 3200.45, 1),\n",
       " ('Geografia', 'Orientador', 2850.8, 1),\n",
       " ('História', 'Orientador', 3200.45, 1),\n",
       " ('Geografia', 'Orientador', 2850.8, 1),\n",
       " ('História', 'Orientador', 3200.45, 1)]"
      ]
     },
     "execution_count": 14,
     "metadata": {},
     "output_type": "execute_result"
    }
   ],
   "source": [
    "cursor.execute(\"SELECT Graduação, Cargo, Salário, tempo_casa FROM dados_profissionais ORDER BY tempo_casa DESC\")\n",
    "cursor.fetchall()"
   ]
  },
  {
   "cell_type": "code",
   "execution_count": null,
   "metadata": {},
   "outputs": [],
   "source": []
  }
 ],
 "metadata": {
  "colab": {
   "name": "Exercicio 2(Banco de Dados).ipynb",
   "provenance": []
  },
  "kernelspec": {
   "display_name": "Python 3",
   "language": "python",
   "name": "python3"
  },
  "language_info": {
   "codemirror_mode": {
    "name": "ipython",
    "version": 3
   },
   "file_extension": ".py",
   "mimetype": "text/x-python",
   "name": "python",
   "nbconvert_exporter": "python",
   "pygments_lexer": "ipython3",
   "version": "3.8.3"
  }
 },
 "nbformat": 4,
 "nbformat_minor": 1
}
