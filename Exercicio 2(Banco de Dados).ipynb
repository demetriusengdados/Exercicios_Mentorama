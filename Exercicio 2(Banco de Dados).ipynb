{
  "nbformat": 4,
  "nbformat_minor": 0,
  "metadata": {
    "kernelspec": {
      "display_name": "Python 3",
      "language": "python",
      "name": "python3"
    },
    "language_info": {
      "codemirror_mode": {
        "name": "ipython",
        "version": 3
      },
      "file_extension": ".py",
      "mimetype": "text/x-python",
      "name": "python",
      "nbconvert_exporter": "python",
      "pygments_lexer": "ipython3",
      "version": "3.8.5"
    },
    "colab": {
      "name": "Exercicio 2(Banco de Dados).ipynb",
      "provenance": []
    }
  },
  "cells": [
    {
      "cell_type": "code",
      "metadata": {
        "id": "zuM1TZAdUCMI"
      },
      "source": [
        "import sqlite3\n",
        "\n",
        "conn = sqlite3.connect('banco_dados_exercicio.db')"
      ],
      "execution_count": null,
      "outputs": []
    },
    {
      "cell_type": "code",
      "metadata": {
        "id": "3dMxfBvUUCMd"
      },
      "source": [
        "cursor = conn.cursor()"
      ],
      "execution_count": null,
      "outputs": []
    },
    {
      "cell_type": "code",
      "metadata": {
        "id": "AOvoQVqYUCMw"
      },
      "source": [
        "dados_profissionais = [('ID', 1, 'Graduação', 'Matematica', 'Cargo', 'professor', 'Salario', 3500.89,'Tempo', 3),\n",
        "                      ('ID', 2, 'Graduação', 'Geografia', 'Cargo','orientador', 'Salario', 'Tempo', 2850.8, 1),\n",
        "                      ('ID', 3, 'Graduação', 'Historia', 'Cargo','Orientador', 'Salario', 'Tempo', 3200.45, 1),\n",
        "                      ('ID', 4, 'Graduação', 'Fisica', 'Cargo','Professor', 'Salario', 'Tempo', 1890.33, 2)]"
      ],
      "execution_count": null,
      "outputs": []
    },
    {
      "cell_type": "code",
      "metadata": {
        "id": "LT8F5_QQUCM_"
      },
      "source": [
        "cursor.execute(\"CREATE TABLE dados_profissionais(Graduação text, Cargo text, Salario integer, Tempo integer)\")"
      ],
      "execution_count": null,
      "outputs": []
    },
    {
      "cell_type": "code",
      "metadata": {
        "id": "ZaYIH2fzUCNM",
        "outputId": "0e9e11dc-5ac8-4e6e-a721-e999e093178f",
        "colab": {
          "base_uri": "https://localhost:8080/"
        }
      },
      "source": [
        "cursor.execute(\"SELECT name from sqlite_master where type = 'table'\")\n",
        "cursor.fetchall()"
      ],
      "execution_count": null,
      "outputs": [
        {
          "output_type": "execute_result",
          "data": {
            "text/plain": [
              "[('dados_profissionais',)]"
            ]
          },
          "metadata": {
            "tags": []
          },
          "execution_count": 8
        }
      ]
    },
    {
      "cell_type": "code",
      "metadata": {
        "id": "icbMOlheUCNk",
        "outputId": "d0bae878-d978-4409-c481-228a91a96f22",
        "colab": {
          "base_uri": "https://localhost:8080/"
        }
      },
      "source": [
        "cursor.execute('SELECT * FROM dados_profissionais')\n",
        "cursor.fetchall()"
      ],
      "execution_count": null,
      "outputs": [
        {
          "output_type": "execute_result",
          "data": {
            "text/plain": [
              "[]"
            ]
          },
          "metadata": {
            "tags": []
          },
          "execution_count": 9
        }
      ]
    },
    {
      "cell_type": "code",
      "metadata": {
        "id": "OU18hzjmUCNZ",
        "outputId": "a71613ef-b390-4ef0-a244-bc081693af39",
        "colab": {
          "base_uri": "https://localhost:8080/"
        }
      },
      "source": [
        "cursor.execute(\"SELECT Graduação, Cargo, Salario, Tempo FROM dados_profissionais ORDER BY Tempo DESC\")\n",
        "cursor.fetchall()"
      ],
      "execution_count": null,
      "outputs": [
        {
          "output_type": "execute_result",
          "data": {
            "text/plain": [
              "[]"
            ]
          },
          "metadata": {
            "tags": []
          },
          "execution_count": 10
        }
      ]
    }
  ]
}