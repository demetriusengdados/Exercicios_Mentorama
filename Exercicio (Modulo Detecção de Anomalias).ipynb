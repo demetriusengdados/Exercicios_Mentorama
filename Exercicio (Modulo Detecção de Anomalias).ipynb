{
 "cells": [
  {
   "cell_type": "code",
   "execution_count": 1,
   "metadata": {},
   "outputs": [],
   "source": [
    "import pandas as pd\n",
    "import numpy as np\n",
    "import scipy.stats as st\n",
    "import matplotlib.pyplot as plt"
   ]
  },
  {
   "cell_type": "code",
   "execution_count": 2,
   "metadata": {},
   "outputs": [],
   "source": [
    "class DetectorAnomalias():\n",
    "    \n",
    "    def __init__(self, epsilon):\n",
    "        self.epsilon = epsilon\n",
    "        \n",
    "    def fit(self, X):\n",
    "        medias = X.mean(axis = 0)\n",
    "        desvios = X.std(axis = 0)\n",
    "        gaussianas = [st.norm(loc = m, scale = d) for m, d in zip(medias, desvios)]  \n",
    "        self.gaussianas = gaussianas\n",
    "        self.X = X\n",
    "        \n",
    "    def prob(self, x):\n",
    "        p = 1\n",
    "        for i in range(self.X.shape[1]):\n",
    "            gaussiana_i = self.gaussianas[i]\n",
    "            x_i = x[i]\n",
    "            p *= gaussiana_i.pdf(x_i)\n",
    "        return p\n",
    "    \n",
    "    def isAnomaly(self, x):\n",
    "        return int(np.where(self.prob(x) < self.epsilon, 1, 0))"
   ]
  },
  {
   "cell_type": "code",
   "execution_count": 5,
   "metadata": {},
   "outputs": [],
   "source": [
    "def getData():\n",
    "    return pd.read_csv(\"dataframe_anomalias_exercicio.csv\")"
   ]
  },
  {
   "cell_type": "code",
   "execution_count": 6,
   "metadata": {},
   "outputs": [
    {
     "data": {
      "text/html": [
       "<div>\n",
       "<style scoped>\n",
       "    .dataframe tbody tr th:only-of-type {\n",
       "        vertical-align: middle;\n",
       "    }\n",
       "\n",
       "    .dataframe tbody tr th {\n",
       "        vertical-align: top;\n",
       "    }\n",
       "\n",
       "    .dataframe thead th {\n",
       "        text-align: right;\n",
       "    }\n",
       "</style>\n",
       "<table border=\"1\" class=\"dataframe\">\n",
       "  <thead>\n",
       "    <tr style=\"text-align: right;\">\n",
       "      <th></th>\n",
       "      <th>x1</th>\n",
       "      <th>x2</th>\n",
       "      <th>x3</th>\n",
       "      <th>x4</th>\n",
       "      <th>x5</th>\n",
       "      <th>x6</th>\n",
       "      <th>anomalia</th>\n",
       "    </tr>\n",
       "  </thead>\n",
       "  <tbody>\n",
       "    <tr>\n",
       "      <th>0</th>\n",
       "      <td>7.731153</td>\n",
       "      <td>23.299155</td>\n",
       "      <td>-0.367453</td>\n",
       "      <td>4.715372</td>\n",
       "      <td>9.306179</td>\n",
       "      <td>16.780965</td>\n",
       "      <td>0.0</td>\n",
       "    </tr>\n",
       "    <tr>\n",
       "      <th>1</th>\n",
       "      <td>11.466833</td>\n",
       "      <td>16.943695</td>\n",
       "      <td>-0.245131</td>\n",
       "      <td>7.060311</td>\n",
       "      <td>10.462826</td>\n",
       "      <td>19.821289</td>\n",
       "      <td>0.0</td>\n",
       "    </tr>\n",
       "    <tr>\n",
       "      <th>2</th>\n",
       "      <td>11.501272</td>\n",
       "      <td>20.196011</td>\n",
       "      <td>1.206049</td>\n",
       "      <td>-4.957189</td>\n",
       "      <td>7.771262</td>\n",
       "      <td>19.100079</td>\n",
       "      <td>0.0</td>\n",
       "    </tr>\n",
       "    <tr>\n",
       "      <th>3</th>\n",
       "      <td>10.893921</td>\n",
       "      <td>16.072385</td>\n",
       "      <td>2.738045</td>\n",
       "      <td>-3.684228</td>\n",
       "      <td>7.373334</td>\n",
       "      <td>23.225524</td>\n",
       "      <td>0.0</td>\n",
       "    </tr>\n",
       "    <tr>\n",
       "      <th>4</th>\n",
       "      <td>10.091706</td>\n",
       "      <td>19.253894</td>\n",
       "      <td>0.996895</td>\n",
       "      <td>-9.504052</td>\n",
       "      <td>8.883988</td>\n",
       "      <td>17.903298</td>\n",
       "      <td>0.0</td>\n",
       "    </tr>\n",
       "    <tr>\n",
       "      <th>...</th>\n",
       "      <td>...</td>\n",
       "      <td>...</td>\n",
       "      <td>...</td>\n",
       "      <td>...</td>\n",
       "      <td>...</td>\n",
       "      <td>...</td>\n",
       "      <td>...</td>\n",
       "    </tr>\n",
       "    <tr>\n",
       "      <th>10095</th>\n",
       "      <td>11.192286</td>\n",
       "      <td>18.451987</td>\n",
       "      <td>-0.953650</td>\n",
       "      <td>-14.362996</td>\n",
       "      <td>10.875826</td>\n",
       "      <td>17.056541</td>\n",
       "      <td>0.0</td>\n",
       "    </tr>\n",
       "    <tr>\n",
       "      <th>10096</th>\n",
       "      <td>12.014177</td>\n",
       "      <td>19.461815</td>\n",
       "      <td>1.985099</td>\n",
       "      <td>-7.119190</td>\n",
       "      <td>11.079922</td>\n",
       "      <td>17.582755</td>\n",
       "      <td>0.0</td>\n",
       "    </tr>\n",
       "    <tr>\n",
       "      <th>10097</th>\n",
       "      <td>10.745460</td>\n",
       "      <td>18.175951</td>\n",
       "      <td>0.206037</td>\n",
       "      <td>-1.897015</td>\n",
       "      <td>9.888329</td>\n",
       "      <td>17.963324</td>\n",
       "      <td>0.0</td>\n",
       "    </tr>\n",
       "    <tr>\n",
       "      <th>10098</th>\n",
       "      <td>9.893969</td>\n",
       "      <td>22.333270</td>\n",
       "      <td>-1.465981</td>\n",
       "      <td>4.137382</td>\n",
       "      <td>7.690620</td>\n",
       "      <td>21.570097</td>\n",
       "      <td>0.0</td>\n",
       "    </tr>\n",
       "    <tr>\n",
       "      <th>10099</th>\n",
       "      <td>11.563246</td>\n",
       "      <td>20.777121</td>\n",
       "      <td>-1.145317</td>\n",
       "      <td>-4.650515</td>\n",
       "      <td>11.857622</td>\n",
       "      <td>19.424881</td>\n",
       "      <td>0.0</td>\n",
       "    </tr>\n",
       "  </tbody>\n",
       "</table>\n",
       "<p>10100 rows × 7 columns</p>\n",
       "</div>"
      ],
      "text/plain": [
       "              x1         x2        x3         x4         x5         x6  \\\n",
       "0       7.731153  23.299155 -0.367453   4.715372   9.306179  16.780965   \n",
       "1      11.466833  16.943695 -0.245131   7.060311  10.462826  19.821289   \n",
       "2      11.501272  20.196011  1.206049  -4.957189   7.771262  19.100079   \n",
       "3      10.893921  16.072385  2.738045  -3.684228   7.373334  23.225524   \n",
       "4      10.091706  19.253894  0.996895  -9.504052   8.883988  17.903298   \n",
       "...          ...        ...       ...        ...        ...        ...   \n",
       "10095  11.192286  18.451987 -0.953650 -14.362996  10.875826  17.056541   \n",
       "10096  12.014177  19.461815  1.985099  -7.119190  11.079922  17.582755   \n",
       "10097  10.745460  18.175951  0.206037  -1.897015   9.888329  17.963324   \n",
       "10098   9.893969  22.333270 -1.465981   4.137382   7.690620  21.570097   \n",
       "10099  11.563246  20.777121 -1.145317  -4.650515  11.857622  19.424881   \n",
       "\n",
       "       anomalia  \n",
       "0           0.0  \n",
       "1           0.0  \n",
       "2           0.0  \n",
       "3           0.0  \n",
       "4           0.0  \n",
       "...         ...  \n",
       "10095       0.0  \n",
       "10096       0.0  \n",
       "10097       0.0  \n",
       "10098       0.0  \n",
       "10099       0.0  \n",
       "\n",
       "[10100 rows x 7 columns]"
      ]
     },
     "execution_count": 6,
     "metadata": {},
     "output_type": "execute_result"
    }
   ],
   "source": [
    "df = getData()\n",
    "df"
   ]
  },
  {
   "cell_type": "code",
   "execution_count": 7,
   "metadata": {},
   "outputs": [],
   "source": [
    "def lanca_dado_regular():\n",
    "    return np.random.choice([1,2,3,4,5,6], size = 1, p = [1/6, 1/6, 1/6, 1/6, 1/6, 1/6])[0]\n",
    "\n",
    "def lanca_dado_irregular(probs):\n",
    "    return np.random.choice([1,2,3,4,5,6], size = 1, p = probs)[0]"
   ]
  },
  {
   "cell_type": "code",
   "execution_count": 8,
   "metadata": {},
   "outputs": [],
   "source": [
    "probs = [3/10, 2/10, 2/10, 1/10, 1/10, 1/10]\n",
    "\n",
    "lista_dado_reg = []\n",
    "lista_dado_irreg = []\n",
    "\n",
    "for i in range(10100):\n",
    "    resultado1 = lanca_dado_regular()\n",
    "    resultado2 = lanca_dado_irregular(probs)\n",
    "    \n",
    "    lista_dado_reg.append(resultado1)\n",
    "    lista_dado_irreg.append(resultado2)\n"
   ]
  },
  {
   "cell_type": "code",
   "execution_count": 11,
   "metadata": {},
   "outputs": [],
   "source": [
    "serie_reg = pd.Series(lista_dado_reg)\n",
    "serie_irreg = pd.Series(lista_dado_irreg)"
   ]
  },
  {
   "cell_type": "code",
   "execution_count": 12,
   "metadata": {},
   "outputs": [
    {
     "data": {
      "text/plain": [
       "0        2\n",
       "1        5\n",
       "2        6\n",
       "3        5\n",
       "4        4\n",
       "        ..\n",
       "10095    2\n",
       "10096    6\n",
       "10097    1\n",
       "10098    5\n",
       "10099    4\n",
       "Length: 10100, dtype: int64"
      ]
     },
     "execution_count": 12,
     "metadata": {},
     "output_type": "execute_result"
    }
   ],
   "source": [
    "serie_reg"
   ]
  },
  {
   "cell_type": "code",
   "execution_count": 13,
   "metadata": {},
   "outputs": [
    {
     "data": {
      "text/plain": [
       "0        1\n",
       "1        4\n",
       "2        6\n",
       "3        1\n",
       "4        5\n",
       "        ..\n",
       "10095    3\n",
       "10096    1\n",
       "10097    1\n",
       "10098    6\n",
       "10099    1\n",
       "Length: 10100, dtype: int64"
      ]
     },
     "execution_count": 13,
     "metadata": {},
     "output_type": "execute_result"
    }
   ],
   "source": [
    "serie_irreg"
   ]
  },
  {
   "cell_type": "code",
   "execution_count": 14,
   "metadata": {},
   "outputs": [
    {
     "data": {
      "image/png": "[encoded data removed]",
      "text/plain": [
       "<Figure size 1440x504 with 2 Axes>"
      ]
     },
     "metadata": {
      "needs_background": "light"
     },
     "output_type": "display_data"
    }
   ],
   "source": [
    "plt.figure(figsize=[20,7])\n",
    "\n",
    "\n",
    "plt.subplot(1,2,1)\n",
    "plt.bar(serie_reg.value_counts().index, serie_reg.value_counts().values)\n",
    "plt.xticks(fontsize = 14, fontweight = 'bold')\n",
    "plt.yticks(fontsize = 14, fontweight = 'bold')\n",
    "plt.xlabel(\"x1\",fontsize = 14, fontweight = 'bold')\n",
    "plt.ylabel(\"x2\",fontsize = 14, fontweight = 'bold')\n",
    "plt.title(\"Dado regular | probs: [1/6, 1/6, 1/6, 1/6, 1/6, 1/6]\", fontsize = 16, fontweight = 'bold')\n",
    "\n",
    "plt.subplot(1,2,2)\n",
    "plt.bar(serie_irreg.value_counts().index, serie_irreg.value_counts().values)\n",
    "plt.xticks(fontsize = 14, fontweight = 'bold')\n",
    "plt.yticks(fontsize = 14, fontweight = 'bold')\n",
    "plt.xlabel(\"x3\",fontsize = 14, fontweight = 'bold')\n",
    "plt.ylabel(\"x4\",fontsize = 14, fontweight = 'bold')\n",
    "plt.title(\"Dado irregular | probs: [3/10, 2/10, 2/10, 1/10, 1/10, 1/10]\", fontsize = 16, fontweight = 'bold')\n",
    "\n",
    "plt.show()"
   ]
  },
  {
   "cell_type": "code",
   "execution_count": 15,
   "metadata": {},
   "outputs": [
    {
     "data": {
      "text/plain": [
       "0.0    10046\n",
       "1.0       54\n",
       "Name: anomalia, dtype: int64"
      ]
     },
     "execution_count": 15,
     "metadata": {},
     "output_type": "execute_result"
    }
   ],
   "source": [
    "df.anomalia.value_counts()"
   ]
  },
  {
   "cell_type": "code",
   "execution_count": null,
   "metadata": {},
   "outputs": [],
   "source": []
  }
 ],
 "metadata": {
  "kernelspec": {
   "display_name": "Python 3",
   "language": "python",
   "name": "python3"
  },
  "language_info": {
   "codemirror_mode": {
    "name": "ipython",
    "version": 3
   },
   "file_extension": ".py",
   "mimetype": "text/x-python",
   "name": "python",
   "nbconvert_exporter": "python",
   "pygments_lexer": "ipython3",
   "version": "3.8.3"
  }
 },
 "nbformat": 4,
 "nbformat_minor": 4
}
