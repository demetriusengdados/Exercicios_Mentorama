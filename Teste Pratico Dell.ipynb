{
 "cells": [
  {
   "cell_type": "code",
   "execution_count": 7,
   "metadata": {},
   "outputs": [],
   "source": [
    "import pandas as pd\n",
    "import numpy as np\n",
    "import matplotlib.pyplot as plt"
   ]
  },
  {
   "cell_type": "code",
   "execution_count": null,
   "metadata": {},
   "outputs": [],
   "source": [
    "df = pd.read_csv(\"pontos_taxi.csv\")\n",
    "df.head()"
   ]
  },
  {
   "cell_type": "code",
   "execution_count": null,
   "metadata": {},
   "outputs": [],
   "source": [
    "df.isnull().sum()"
   ]
  },
  {
   "cell_type": "code",
   "execution_count": null,
   "metadata": {},
   "outputs": [],
   "source": [
    "df.dropna(axis = 1)"
   ]
  },
  {
   "cell_type": "code",
   "execution_count": null,
   "metadata": {},
   "outputs": [],
   "source": [
    "df.localizacao.value_counts()"
   ]
  },
  {
   "cell_type": "code",
   "execution_count": null,
   "metadata": {},
   "outputs": [],
   "source": [
    "def preprocessamento(df, cols_numericas, cols_categoricas):\n",
    "    dff = df.copy()\n",
    "    temp = (df.isnull().sum() / df.shape[0]) >= 0.8\n",
    "    variaveis_80percFaltantes = temp.loc[temp == True].index.tolist()\n",
    "    for v in variaveis_80percFaltantes:\n",
    "        dff = dff.drop(v, axis = 1)\n",
    "        \n",
    "    cols_numericas = list(set(cols_numericas).intersection(set(dff.columns.tolist())))\n",
    "    cols_categoricas = list(set(cols_categoricas).intersection(set(dff.columns.tolist())))\n",
    "        \n",
    "    for v in cols_numericas:\n",
    "        dff[v] = dff[v].fillna(dff[v].mean())\n",
    "        \n",
    "    for v in cols_categoricas:\n",
    "        mode_v = dff[v].value_counts().idxmax()\n",
    "        dff[v] = dff[v].fillna(mode_v)\n",
    "    return dff"
   ]
  },
  {
   "cell_type": "code",
   "execution_count": null,
   "metadata": {},
   "outputs": [],
   "source": [
    "df_limpo = preprocessamento(df = df, \n",
    "                            cols_numericas = ['data_extracao', 'codigo', 'nome', 'telefone', 'logradouro'], \n",
    "                            cols_categoricas = ['numeor', 'latitude', 'longitude'])\n",
    "\n",
    "df_limpo"
   ]
  },
  {
   "cell_type": "code",
   "execution_count": null,
   "metadata": {},
   "outputs": [],
   "source": [
    "from sklearn.preprocessing import OneHotEncoder"
   ]
  },
  {
   "cell_type": "code",
   "execution_count": null,
   "metadata": {},
   "outputs": [],
   "source": [
    "ohe = OneHotEncoder()"
   ]
  },
  {
   "cell_type": "code",
   "execution_count": null,
   "metadata": {},
   "outputs": [],
   "source": [
    "variavel_ohe = df_limpo.Cidade.values.reshape(-1,1)\n",
    "\n",
    "ohe.fit(variavel_ohe)"
   ]
  },
  {
   "cell_type": "code",
   "execution_count": null,
   "metadata": {},
   "outputs": [],
   "source": [
    "from math import radians, sin, cos, sqrt, asin"
   ]
  },
  {
   "cell_type": "code",
   "execution_count": null,
   "metadata": {},
   "outputs": [],
   "source": [
    "def haversine(lat1, lon1, lat2, lon2):\n",
    "    R = 6372.8  # Earth radius in kilometers\n",
    " \n",
    "    dLat = radians(lat2 - lat1)\n",
    "    dLon = radians(lon2 - lon1)\n",
    "    lat1 = radians(lat1)\n",
    "    lat2 = radians(lat2)\n",
    " \n",
    "    a = sin(dLat / 2)**2 + cos(lat1) * cos(lat2) * sin(dLon / 2)**2\n",
    "    c = 2 * asin(sqrt(a))\n",
    " \n",
    "    return R * c"
   ]
  },
  {
   "cell_type": "code",
   "execution_count": null,
   "metadata": {},
   "outputs": [],
   "source": [
    "print(\"Informações ~ Logradouro (MinMax):\\n\")\n",
    "print(pd.Series(X_minmax).describe())"
   ]
  },
  {
   "cell_type": "code",
   "execution_count": null,
   "metadata": {},
   "outputs": [],
   "source": [
    "input(int(\"Digite o local: \"))\n",
    "print(f\"Localização do usuario é: \")"
   ]
  },
  {
   "cell_type": "code",
   "execution_count": null,
   "metadata": {},
   "outputs": [],
   "source": [
    "input(int(\"Digite 0 para sair ou 1 para solicitar nova corrida\"))"
   ]
  }
 ],
 "metadata": {
  "kernelspec": {
   "display_name": "Python 3",
   "language": "python",
   "name": "python3"
  },
  "language_info": {
   "codemirror_mode": {
    "name": "ipython",
    "version": 3
   },
   "file_extension": ".py",
   "mimetype": "text/x-python",
   "name": "python",
   "nbconvert_exporter": "python",
   "pygments_lexer": "ipython3",
   "version": "3.8.3"
  }
 },
 "nbformat": 4,
 "nbformat_minor": 4
}
