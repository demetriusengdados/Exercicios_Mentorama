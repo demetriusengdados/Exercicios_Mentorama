{
  "nbformat": 4,
  "nbformat_minor": 0,
  "metadata": {
    "colab": {
      "name": "Exercicio 5(Banco de Dados).ipynb",
      "provenance": []
    },
    "kernelspec": {
      "name": "python3",
      "display_name": "Python 3"
    }
  },
  "cells": [
    {
      "cell_type": "code",
      "metadata": {
        "id": "G-OuV5K6PG75"
      },
      "source": [
        "import sqlite3"
      ],
      "execution_count": 6,
      "outputs": []
    },
    {
      "cell_type": "code",
      "metadata": {
        "id": "ZK11LTixPGDD"
      },
      "source": [
        "conn = sqlite3.connect('banco_de_dados_exercicios.db')\n",
        "print(conn)"
      ],
      "execution_count": null,
      "outputs": []
    },
    {
      "cell_type": "code",
      "metadata": {
        "id": "JJVdGtMpPG04"
      },
      "source": [
        "cursor = conn.cursor()"
      ],
      "execution_count": 8,
      "outputs": []
    },
    {
      "cell_type": "code",
      "metadata": {
        "id": "1af0_AoJZxbC"
      },
      "source": [
        "dados_profissionais = [('ID',1, 'Matéria', 'Matematica', 'Cargo', 'professor', 'Salario', 3500.89, 'Tempo', 3),\n",
        "                      ('ID', 2, 'Geografia', 'orientador', 2850.8, 1),\n",
        "                      ('ID', 3, 'Historia', 'Orientador', 3200.45, 1),\n",
        "                      ('ID', 4, 'Fisica', 'Professor', 1890.33, 2)]"
      ],
      "execution_count": 9,
      "outputs": []
    },
    {
      "cell_type": "code",
      "metadata": {
        "id": "Cvtv9Ck4Pbn8"
      },
      "source": [
        "cursor.execute('CREATE TABLE dados_profissionais (id integer, Matéria text, Cargo text, Salario integer, Tempo integer)')"
      ],
      "execution_count": null,
      "outputs": []
    },
    {
      "cell_type": "code",
      "metadata": {
        "id": "SJelbaOYPEEJ",
        "outputId": "17f443d5-4488-4b7f-da87-34ebd0ca5057",
        "colab": {
          "base_uri": "https://localhost:8080/"
        }
      },
      "source": [
        "cursor.execute(\"SELECT name from sqlite_master where type = 'table'\")\n",
        "cursor.fetchall()"
      ],
      "execution_count": 11,
      "outputs": [
        {
          "output_type": "execute_result",
          "data": {
            "text/plain": [
              "[('dados_profissionais',)]"
            ]
          },
          "metadata": {
            "tags": []
          },
          "execution_count": 11
        }
      ]
    },
    {
      "cell_type": "code",
      "metadata": {
        "id": "XA62fJpaPEFe"
      },
      "source": [
        "cursor.execute(\"SELECT * FROM dados_profissionais\")\n",
        "cursor.fetchall()"
      ],
      "execution_count": null,
      "outputs": []
    },
    {
      "cell_type": "code",
      "metadata": {
        "id": "2QU5kw5ePEH0"
      },
      "source": [
        "cursor.execute(\"SELECT SUM(Salario) FROM dados_profissionais\")\n",
        "cursor.fetchall()"
      ],
      "execution_count": null,
      "outputs": []
    }
  ]
}