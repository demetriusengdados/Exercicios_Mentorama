{
 "cells": [
  {
   "cell_type": "code",
   "execution_count": 1,
   "metadata": {
    "id": "G-OuV5K6PG75"
   },
   "outputs": [],
   "source": [
    "import sqlite3"
   ]
  },
  {
   "cell_type": "code",
   "execution_count": 2,
   "metadata": {
    "id": "ZK11LTixPGDD"
   },
   "outputs": [
    {
     "name": "stdout",
     "output_type": "stream",
     "text": [
      "<sqlite3.Connection object at 0x7fcb2dfa55d0>\n"
     ]
    }
   ],
   "source": [
    "conn = sqlite3.connect('banco_de_exercicios.db')\n",
    "print(conn)"
   ]
  },
  {
   "cell_type": "code",
   "execution_count": 3,
   "metadata": {
    "id": "JJVdGtMpPG04"
   },
   "outputs": [],
   "source": [
    "cursor = conn.cursor()"
   ]
  },
  {
   "cell_type": "code",
   "execution_count": 4,
   "metadata": {
    "colab": {
     "base_uri": "https://localhost:8080/"
    },
    "id": "SJelbaOYPEEJ",
    "outputId": "17f443d5-4488-4b7f-da87-34ebd0ca5057"
   },
   "outputs": [
    {
     "data": {
      "text/plain": [
       "[('dados_cadastrais',), ('dados_profissionais',)]"
      ]
     },
     "execution_count": 4,
     "metadata": {},
     "output_type": "execute_result"
    }
   ],
   "source": [
    "cursor.execute(\"SELECT name from sqlite_master where type = 'table'\")\n",
    "cursor.fetchall()"
   ]
  },
  {
   "cell_type": "code",
   "execution_count": 5,
   "metadata": {
    "id": "XA62fJpaPEFe"
   },
   "outputs": [
    {
     "data": {
      "text/plain": [
       "[(1, 'Matematica', 'Professor', 3500.89, 3),\n",
       " (2, 'Geografia', 'Orientador', 2850.8, 1),\n",
       " (3, 'História', 'Orientador', 3200.45, 1),\n",
       " (4, 'Fisíca', 'Professor', 1890.33, 2),\n",
       " (1, 'Matematica', 'Professor', 3500.89, 3),\n",
       " (2, 'Geografia', 'Orientador', 2850.8, 1),\n",
       " (3, 'História', 'Orientador', 3200.45, 1),\n",
       " (4, 'Fisíca', 'Professor', 1890.33, 2),\n",
       " (1, 'Matematica', 'Professor', 3500.89, 3),\n",
       " (2, 'Geografia', 'Orientador', 2850.8, 1),\n",
       " (3, 'História', 'Orientador', 3200.45, 1),\n",
       " (4, 'Fisíca', 'Professor', 1890.33, 2)]"
      ]
     },
     "execution_count": 5,
     "metadata": {},
     "output_type": "execute_result"
    }
   ],
   "source": [
    "cursor.execute(\"SELECT * FROM dados_profissionais\")\n",
    "cursor.fetchall()"
   ]
  },
  {
   "cell_type": "code",
   "execution_count": 7,
   "metadata": {
    "id": "2QU5kw5ePEH0"
   },
   "outputs": [
    {
     "data": {
      "text/plain": [
       "[(34327.41,)]"
      ]
     },
     "execution_count": 7,
     "metadata": {},
     "output_type": "execute_result"
    }
   ],
   "source": [
    "cursor.execute(\"SELECT SUM(Salário) FROM dados_profissionais\")\n",
    "cursor.fetchall()"
   ]
  },
  {
   "cell_type": "code",
   "execution_count": null,
   "metadata": {},
   "outputs": [],
   "source": []
  }
 ],
 "metadata": {
  "colab": {
   "name": "Exercicio 5(Banco de Dados).ipynb",
   "provenance": []
  },
  "kernelspec": {
   "display_name": "Python 3",
   "language": "python",
   "name": "python3"
  },
  "language_info": {
   "codemirror_mode": {
    "name": "ipython",
    "version": 3
   },
   "file_extension": ".py",
   "mimetype": "text/x-python",
   "name": "python",
   "nbconvert_exporter": "python",
   "pygments_lexer": "ipython3",
   "version": "3.8.3"
  }
 },
 "nbformat": 4,
 "nbformat_minor": 1
}
