{
  "nbformat": 4,
  "nbformat_minor": 0,
  "metadata": {
    "kernelspec": {
      "display_name": "Python 3",
      "language": "python",
      "name": "python3"
    },
    "language_info": {
      "codemirror_mode": {
        "name": "ipython",
        "version": 3
      },
      "file_extension": ".py",
      "mimetype": "text/x-python",
      "name": "python",
      "nbconvert_exporter": "python",
      "pygments_lexer": "ipython3",
      "version": "3.8.5"
    },
    "colab": {
      "name": "Exercicio 1 (Banco de dados).ipynb",
      "provenance": []
    }
  },
  "cells": [
    {
      "cell_type": "code",
      "metadata": {
        "id": "huQmWpATZxan"
      },
      "source": [
        "dados_cadastrais = [('ID', 1,'Nome', 'Maria', 'Sobrenome','Silva', 'Rua', 1, 'Cidade', 'SP', 'CPF',  11111211313),\n",
        "                   ('ID', 2, 'Nome', 'João', 'Sobrenome','Silva', 'Rua', 2, 'Cidade', 'SP', 'CPF',  111111211889),\n",
        "                   ('ID', 3, 'Nome', 'Pedro', 'Sobrenome', 'Pereira', 'Rua', 8, 'Cidade', 'SP', 'CPF', 111111211786),\n",
        "                   ('ID', 4, 'Nome', 'Paulo', 'Sobrenome', 'Ribeiro', 'Rua', 9, 'Cidade', 'SP', 'CPF', 11111211123)]"
      ],
      "execution_count": 1,
      "outputs": []
    },
    {
      "cell_type": "code",
      "metadata": {
        "id": "1af0_AoJZxbC"
      },
      "source": [
        "dados_profissionais = [('ID',1, 'Matematica', 'professor', 3500.89, 3),\n",
        "                      ('ID', 2, 'Geografia', 'orientador', 2850.8, 1),\n",
        "                      ('ID', 3, 'Historia', 'Orientador', 3200.45, 1),\n",
        "                      ('ID', 4, 'Fisica', 'Professor', 1890.33, 2)]"
      ],
      "execution_count": 2,
      "outputs": []
    },
    {
      "cell_type": "code",
      "metadata": {
        "id": "L6AsAJJxZxbY",
        "outputId": "c6119aab-3e6a-429c-e533-545f133a7ef0",
        "colab": {
          "base_uri": "https://localhost:8080/"
        }
      },
      "source": [
        "print(dados_cadastrais)\n",
        "print(dados_profissionais)"
      ],
      "execution_count": 5,
      "outputs": [
        {
          "output_type": "stream",
          "text": [
            "[('ID', 1, 'Nome', 'Maria', 'Sobrenome', 'Silva', 'Rua', 1, 'Cidade', 'SP', 'CPF', 11111211313), ('ID', 2, 'Nome', 'João', 'Sobrenome', 'Silva', 'Rua', 2, 'Cidade', 'SP', 'CPF', 111111211889), ('ID', 3, 'Nome', 'Pedro', 'Sobrenome', 'Pereira', 'Rua', 8, 'Cidade', 'SP', 'CPF', 111111211786), ('ID', 4, 'Nome', 'Paulo', 'Sobrenome', 'Ribeiro', 'Rua', 9, 'Cidade', 'SP', 'CPF', 11111211123)]\n",
            "[('ID', 1, 'Matematica', 'professor', 3500.89, 3), ('ID', 2, 'Geografia', 'orientador', 2850.8, 1), ('ID', 3, 'Historia', 'Orientador', 3200.45, 1), ('ID', 4, 'Fisica', 'Professor', 1890.33, 2)]\n"
          ],
          "name": "stdout"
        }
      ]
    }
  ]
}