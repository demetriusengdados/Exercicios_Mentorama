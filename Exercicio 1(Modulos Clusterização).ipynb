{
 "cells": [
  {
   "cell_type": "code",
   "execution_count": 3,
   "metadata": {},
   "outputs": [],
   "source": [
    "import pandas as pd\n",
    "import numpy as np\n",
    "import matplotlib.pyplot as plt\n",
    "\n",
    "def getData():\n",
    "    return pd.read_csv('dataframe_exercicio_clusterizacao_RFM.csv')"
   ]
  },
  {
   "cell_type": "code",
   "execution_count": 4,
   "metadata": {},
   "outputs": [
    {
     "data": {
      "text/html": [
       "<div>\n",
       "<style scoped>\n",
       "    .dataframe tbody tr th:only-of-type {\n",
       "        vertical-align: middle;\n",
       "    }\n",
       "\n",
       "    .dataframe tbody tr th {\n",
       "        vertical-align: top;\n",
       "    }\n",
       "\n",
       "    .dataframe thead th {\n",
       "        text-align: right;\n",
       "    }\n",
       "</style>\n",
       "<table border=\"1\" class=\"dataframe\">\n",
       "  <thead>\n",
       "    <tr style=\"text-align: right;\">\n",
       "      <th></th>\n",
       "      <th>user</th>\n",
       "      <th>rec</th>\n",
       "      <th>freq</th>\n",
       "      <th>valor</th>\n",
       "    </tr>\n",
       "  </thead>\n",
       "  <tbody>\n",
       "    <tr>\n",
       "      <th>0</th>\n",
       "      <td>1</td>\n",
       "      <td>15.0</td>\n",
       "      <td>7.0</td>\n",
       "      <td>196.881015</td>\n",
       "    </tr>\n",
       "    <tr>\n",
       "      <th>1</th>\n",
       "      <td>2</td>\n",
       "      <td>51.0</td>\n",
       "      <td>6.0</td>\n",
       "      <td>162.408892</td>\n",
       "    </tr>\n",
       "    <tr>\n",
       "      <th>2</th>\n",
       "      <td>3</td>\n",
       "      <td>80.0</td>\n",
       "      <td>5.0</td>\n",
       "      <td>180.158644</td>\n",
       "    </tr>\n",
       "    <tr>\n",
       "      <th>3</th>\n",
       "      <td>4</td>\n",
       "      <td>38.0</td>\n",
       "      <td>4.0</td>\n",
       "      <td>156.048130</td>\n",
       "    </tr>\n",
       "    <tr>\n",
       "      <th>4</th>\n",
       "      <td>5</td>\n",
       "      <td>19.0</td>\n",
       "      <td>6.0</td>\n",
       "      <td>164.052067</td>\n",
       "    </tr>\n",
       "    <tr>\n",
       "      <th>...</th>\n",
       "      <td>...</td>\n",
       "      <td>...</td>\n",
       "      <td>...</td>\n",
       "      <td>...</td>\n",
       "    </tr>\n",
       "    <tr>\n",
       "      <th>1007</th>\n",
       "      <td>1008</td>\n",
       "      <td>50.0</td>\n",
       "      <td>6.0</td>\n",
       "      <td>116.867455</td>\n",
       "    </tr>\n",
       "    <tr>\n",
       "      <th>1008</th>\n",
       "      <td>1009</td>\n",
       "      <td>72.0</td>\n",
       "      <td>4.0</td>\n",
       "      <td>94.807854</td>\n",
       "    </tr>\n",
       "    <tr>\n",
       "      <th>1009</th>\n",
       "      <td>1010</td>\n",
       "      <td>50.0</td>\n",
       "      <td>5.0</td>\n",
       "      <td>99.187523</td>\n",
       "    </tr>\n",
       "    <tr>\n",
       "      <th>1010</th>\n",
       "      <td>1011</td>\n",
       "      <td>81.0</td>\n",
       "      <td>2.0</td>\n",
       "      <td>66.581900</td>\n",
       "    </tr>\n",
       "    <tr>\n",
       "      <th>1011</th>\n",
       "      <td>1012</td>\n",
       "      <td>31.0</td>\n",
       "      <td>2.0</td>\n",
       "      <td>129.189160</td>\n",
       "    </tr>\n",
       "  </tbody>\n",
       "</table>\n",
       "<p>1012 rows × 4 columns</p>\n",
       "</div>"
      ],
      "text/plain": [
       "      user   rec  freq       valor\n",
       "0        1  15.0   7.0  196.881015\n",
       "1        2  51.0   6.0  162.408892\n",
       "2        3  80.0   5.0  180.158644\n",
       "3        4  38.0   4.0  156.048130\n",
       "4        5  19.0   6.0  164.052067\n",
       "...    ...   ...   ...         ...\n",
       "1007  1008  50.0   6.0  116.867455\n",
       "1008  1009  72.0   4.0   94.807854\n",
       "1009  1010  50.0   5.0   99.187523\n",
       "1010  1011  81.0   2.0   66.581900\n",
       "1011  1012  31.0   2.0  129.189160\n",
       "\n",
       "[1012 rows x 4 columns]"
      ]
     },
     "execution_count": 4,
     "metadata": {},
     "output_type": "execute_result"
    }
   ],
   "source": [
    "df = getData()\n",
    "df"
   ]
  },
  {
   "cell_type": "code",
   "execution_count": 5,
   "metadata": {},
   "outputs": [],
   "source": [
    "from sklearn.cluster import KMeans"
   ]
  },
  {
   "cell_type": "code",
   "execution_count": null,
   "metadata": {},
   "outputs": [],
   "source": [
    "plt.figure(figsize=[8,6])\n",
    "plt.scatter(X[:, 0], X[:, 1])\n",
    "plt.show()"
   ]
  },
  {
   "cell_type": "code",
   "execution_count": null,
   "metadata": {},
   "outputs": [],
   "source": [
    "km = KMeans(n_clusters = 3) \n",
    "\n",
    "km"
   ]
  },
  {
   "cell_type": "code",
   "execution_count": null,
   "metadata": {},
   "outputs": [],
   "source": [
    "km.fit(X)"
   ]
  },
  {
   "cell_type": "code",
   "execution_count": null,
   "metadata": {},
   "outputs": [],
   "source": [
    "km.cluster_centers"
   ]
  },
  {
   "cell_type": "code",
   "execution_count": null,
   "metadata": {},
   "outputs": [],
   "source": [
    "plt.figure(figsize=[8,6])\n",
    "plt.scatter(X[:, 0], X[:, 1])\n",
    "plt.title(\"Cluster KMeans(3 clusters)\", fontsize = 16, fontweight = 'bold')\n",
    "for centr in km.cluster_centers_:\n",
    "    plt.scatter(centr[0], centr[1], s = 300, marker = 'x', c = 'black', lw = 7)\n",
    "plt.show()"
   ]
  },
  {
   "cell_type": "code",
   "execution_count": null,
   "metadata": {},
   "outputs": [],
   "source": [
    "km.predict(X)"
   ]
  },
  {
   "cell_type": "code",
   "execution_count": null,
   "metadata": {},
   "outputs": [],
   "source": [
    "plt.figure(figsize=[8,6])\n",
    "plt.title(\"Clusterização dos dados:\", fontsize = 16, fontweight = 'bold')\n",
    "plt.scatter(X[:, 0], X[:, 1], c = km.predict(X), cmap = plt.cm.Paired)\n",
    "for centr in km.cluster_centers_:\n",
    "    plt.scatter(centr[0], centr[1], s = 300, marker = 'x', c = 'black', lw = 7)\n",
    "plt.show()"
   ]
  },
  {
   "cell_type": "code",
   "execution_count": null,
   "metadata": {},
   "outputs": [],
   "source": [
    "plt.figure(figsize=[20,50])\n",
    "\n",
    "for k in range(1, 13):\n",
    "    km = KMeans(n_clusters=k)\n",
    "    km.fit(X)\n",
    "    plt.subplot(6,2,k)\n",
    "    plt.title(\"Qtd. Clusters:\" + str(k), fontsize = 14, fontweight = 'bold')\n",
    "    plt.scatter(X[:, 0], X[:, 1], c = km.predict(X), cmap = plt.cm.Paired)\n",
    "    for centr in km.cluster_centers_:\n",
    "        plt.scatter(centr[0], centr[1], s = 300, marker = 'x', c = 'black', lw = 7)\n",
    "    plt.xticks([])\n",
    "    plt.yticks([])\n",
    "plt.show()"
   ]
  },
  {
   "cell_type": "code",
   "execution_count": null,
   "metadata": {},
   "outputs": [],
   "source": [
    "lista_inertias = []\n",
    "for i in range(1, 13):\n",
    "    km = KMeans(n_clusters=i)\n",
    "    km.fit(X)\n",
    "    lista_inertias.append(km.inertia_)\n",
    "    "
   ]
  },
  {
   "cell_type": "code",
   "execution_count": null,
   "metadata": {},
   "outputs": [],
   "source": [
    "plt.figure(figsize=[15,6])\n",
    "plt.title(\"Curva de Elbow\", fontsize = 20, fontweight = 'bold')\n",
    "plt.xlabel(\"Número de clusters\", fontsize = 14, fontweight = 'bold')\n",
    "plt.ylabel(\"WCSS (inertia)\", fontsize = 14, fontweight = 'bold')\n",
    "plt.plot(range(1, 1+len(lista_inertias)), lista_inertias, c = 'black', lw = 2)\n",
    "plt.scatter(range(1, 1+len(lista_inertias)), lista_inertias, c = 'black', lw = 2)\n",
    "plt.xticks(range(1,1+len(lista_inertias)))\n",
    "plt.grid()\n",
    "plt.show()"
   ]
  },
  {
   "cell_type": "code",
   "execution_count": null,
   "metadata": {},
   "outputs": [],
   "source": [
    "from sklearn.datasets import make_blobs\n",
    "from sklearn.datasets import make_circles"
   ]
  },
  {
   "cell_type": "code",
   "execution_count": null,
   "metadata": {},
   "outputs": [],
   "source": [
    "def dataset1():\n",
    "    centers = [[1, 1], [-1, -1], [1, -1]]\n",
    "    X, _ = make_blobs(n_samples=750, centers=centers, cluster_std=0.4,\n",
    "                                random_state=0)\n",
    "    return X\n",
    "\n",
    "def dataset2():\n",
    "    X, _ = make_circles(n_samples=750, factor=0.3, noise=0.1)\n",
    "    return X"
   ]
  },
  {
   "cell_type": "code",
   "execution_count": null,
   "metadata": {},
   "outputs": [],
   "source": [
    "X1 = dataset1()\n",
    "X2 = dataset2()\n",
    "\n",
    "X1.shape, X2.shape"
   ]
  },
  {
   "cell_type": "code",
   "execution_count": null,
   "metadata": {},
   "outputs": [],
   "source": [
    "plt.figure(figsize=[20,6])\n",
    "plt.subplot(1,2,1)\n",
    "plt.title(\"Dataset 1\", fontsize = 16, fontweight = 'bold')\n",
    "plt.scatter(X1[:, 0], X1[:, 1])\n",
    "plt.grid()\n",
    "plt.subplot(1,2,2)\n",
    "plt.title(\"Dataset 2\", fontsize = 16, fontweight = 'bold')\n",
    "plt.scatter(X2[:, 0], X2[:, 1])\n",
    "plt.grid()\n",
    "plt.show()"
   ]
  },
  {
   "cell_type": "code",
   "execution_count": null,
   "metadata": {},
   "outputs": [],
   "source": [
    "km1 = KMeans(n_clusters = 3).fit(X1)\n",
    "\n",
    "km2 = KMeans(n_clusters = 2).fit(X2)"
   ]
  },
  {
   "cell_type": "code",
   "execution_count": null,
   "metadata": {},
   "outputs": [],
   "source": [
    "plt.figure(figsize=[20,6])\n",
    "plt.subplot(1,2,1)\n",
    "plt.title(\"KMeans (3 clusters)\", fontsize = 16, fontweight = 'bold')\n",
    "plt.scatter(X1[:, 0], X1[:, 1], c = km1.predict(X1), cmap = plt.cm.Paired)\n",
    "plt.grid()\n",
    "plt.subplot(1,2,2)\n",
    "plt.title(\"KMeans (2 clusters)\", fontsize = 16, fontweight = 'bold')\n",
    "plt.scatter(X2[:, 0], X2[:, 1], c = km2.predict(X2), cmap = plt.cm.Paired)\n",
    "plt.grid()\n",
    "plt.show()"
   ]
  },
  {
   "cell_type": "code",
   "execution_count": null,
   "metadata": {},
   "outputs": [],
   "source": [
    "from sklearn.cluster import DBSCAN"
   ]
  },
  {
   "cell_type": "code",
   "execution_count": null,
   "metadata": {},
   "outputs": [],
   "source": [
    "db1 = DBSCAN(eps=0.3, min_samples=10).fit(X1)\n",
    "db1"
   ]
  },
  {
   "cell_type": "code",
   "execution_count": null,
   "metadata": {},
   "outputs": [],
   "source": [
    "db1.labels_"
   ]
  },
  {
   "cell_type": "code",
   "execution_count": null,
   "metadata": {},
   "outputs": [],
   "source": [
    "plt.figure(figsize=[8,6])\n",
    "db1 = DBSCAN(eps=0.1,  min_samples=5).fit(X1)\n",
    "print(\"Qtd. clusters definidos: \",  np.unique(db1.labels_).size-1, '\\n')\n",
    "df1 = pd.DataFrame(np.c_[X1, db1.labels_], columns = ['x1', 'x2', 'label_db1'])\n",
    "plt.title(\"DBSCAN(eps=0.1, min_samples=5)\", fontsize = 16, fontweight = 'bold')\n",
    "plt.scatter(df1.loc[df1.label_db1 != -1].x1, \n",
    "            df1.loc[df1.label_db1 != -1].x2, \n",
    "            c = df1.loc[df1.label_db1 != -1].label_db1,\n",
    "            cmap = plt.cm.Paired)\n",
    "plt.scatter(df1.loc[df1.label_db1 == -1].x1, \n",
    "            df1.loc[df1.label_db1 == -1].x2, \n",
    "            c = 'black')\n",
    "plt.show()"
   ]
  }
 ],
 "metadata": {
  "kernelspec": {
   "display_name": "Python 3",
   "language": "python",
   "name": "python3"
  },
  "language_info": {
   "codemirror_mode": {
    "name": "ipython",
    "version": 3
   },
   "file_extension": ".py",
   "mimetype": "text/x-python",
   "name": "python",
   "nbconvert_exporter": "python",
   "pygments_lexer": "ipython3",
   "version": "3.8.3"
  }
 },
 "nbformat": 4,
 "nbformat_minor": 4
}
