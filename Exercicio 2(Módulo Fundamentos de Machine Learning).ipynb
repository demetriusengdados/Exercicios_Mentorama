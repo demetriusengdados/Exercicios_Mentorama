{
 "cells": [
  {
   "cell_type": "code",
   "execution_count": null,
   "metadata": {},
   "outputs": [],
   "source": [
    "import pandas as pd\n",
    "df = pd.read_csv(\"dataframe_exercicio_modulo_8.csv\")\n",
    "print(df.shape)\n",
    "df.head()"
   ]
  },
  {
   "cell_type": "code",
   "execution_count": null,
   "metadata": {},
   "outputs": [],
   "source": [
    "crimes = [77,202,348,114,47]\n",
    "nivel_ed = [10.0, 6.0, 1.0, 6.0, 1.0]\n",
    "perc_pol = np.array(crimes) * 1000 + np.array(nivel_ed) * 200\n",
    "\n",
    "dframe = pd.DataFrame(np.c_[crimes, nivel_ed, perc_pol], columns = ['crimes', 'nivel_ed', 'perc_pol'])\n",
    "print(\"Dataset:\")\n",
    "print(dframe)\n",
    "print()\n",
    "plt.figure(figsize=[8,6])\n",
    "plt.scatter(dframe.crimes, dframe.nivel_ed, c = perc_pol, cmap = plt.cm.bwr, s = 120)\n",
    "plt.colorbar()\n",
    "plt.grid()\n",
    "plt.title(\"Taxa de crimes\", fontweight = 'bold', fontsize = 16)\n",
    "plt.xlabel(\"Crimes\", fontweight = 'bold', fontsize = 12)\n",
    "plt.ylabel(\"perc_pol\", fontweight = 'bold', fontsize = 12)\n",
    "plt.show()"
   ]
  },
  {
   "cell_type": "code",
   "execution_count": null,
   "metadata": {},
   "outputs": [],
   "source": [
    "from sklearn.neighbors import KNeighborsRegressor"
   ]
  },
  {
   "cell_type": "code",
   "execution_count": null,
   "metadata": {},
   "outputs": [],
   "source": [
    "dframe"
   ]
  },
  {
   "cell_type": "code",
   "execution_count": null,
   "metadata": {},
   "outputs": [],
   "source": [
    "X = dframe[['crime', 'nivel_ed']].values\n",
    "y = dframe.preco.values\n",
    "\n",
    "type(X), X.shape"
   ]
  },
  {
   "cell_type": "code",
   "execution_count": null,
   "metadata": {},
   "outputs": [],
   "source": [
    "knn = KNeighborsRegressor(n_neighbors = 3)"
   ]
  },
  {
   "cell_type": "code",
   "execution_count": null,
   "metadata": {},
   "outputs": [],
   "source": [
    "knn.fit(X, y)"
   ]
  },
  {
   "cell_type": "code",
   "execution_count": null,
   "metadata": {},
   "outputs": [],
   "source": [
    "crime = np.array([[1, 60]])"
   ]
  },
  {
   "cell_type": "code",
   "execution_count": null,
   "metadata": {},
   "outputs": [],
   "source": [
    "knn.predict(crime)"
   ]
  }
 ],
 "metadata": {
  "kernelspec": {
   "display_name": "Python 3",
   "language": "python",
   "name": "python3"
  },
  "language_info": {
   "codemirror_mode": {
    "name": "ipython",
    "version": 3
   },
   "file_extension": ".py",
   "mimetype": "text/x-python",
   "name": "python",
   "nbconvert_exporter": "python",
   "pygments_lexer": "ipython3",
   "version": "3.8.3"
  }
 },
 "nbformat": 4,
 "nbformat_minor": 4
}
