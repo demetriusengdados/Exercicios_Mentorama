{
  "nbformat": 4,
  "nbformat_minor": 0,
  "metadata": {
    "colab": {
      "name": "Exercico 2 (gerando numeros aleatorios).ipynb",
      "provenance": []
    },
    "kernelspec": {
      "name": "python3",
      "display_name": "Python 3"
    }
  },
  "cells": [
    {
      "cell_type": "code",
      "metadata": {
        "id": "nhjYHDbEnlBa"
      },
      "source": [
        "from random import randint\n",
        "from time import sleep\n",
        "computador = randint(0, 5) #faz o computador \"PENSAR\"\n",
        "print('-=-' * 20)\n",
        "print('Vou pensar em um numero entre 0 e 5. Tente adivinhar...')\n",
        "print('-=-' * 20)\n",
        "jogador = int(input('Em que numero pensei? ')) # jogador tenta adivinhar\n",
        "print('Processando...')\n",
        "sleep(3)\n",
        "if jogador == computador:\n",
        "    print('Parabens voce me venceu')\n",
        "else:\n",
        "    print('Ganhei! Eu pensei no numero {} e não no {}'.format(computador, jogador))"
      ],
      "execution_count": null,
      "outputs": []
    }
  ]
}