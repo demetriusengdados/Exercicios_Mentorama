{
 "cells": [
  {
   "cell_type": "code",
   "execution_count": 1,
   "metadata": {
    "id": "G-OuV5K6PG75"
   },
   "outputs": [],
   "source": [
    "import sqlite3"
   ]
  },
  {
   "cell_type": "code",
   "execution_count": 2,
   "metadata": {
    "colab": {
     "base_uri": "https://localhost:8080/"
    },
    "id": "ZK11LTixPGDD",
    "outputId": "659c5865-90eb-43da-8d22-67babd4049f7"
   },
   "outputs": [
    {
     "name": "stdout",
     "output_type": "stream",
     "text": [
      "<sqlite3.Connection object at 0x7f52798ef3f0>\n"
     ]
    }
   ],
   "source": [
    "conn = sqlite3.connect('banco_de_exercicios.db')\n",
    "print(conn)"
   ]
  },
  {
   "cell_type": "code",
   "execution_count": 3,
   "metadata": {
    "id": "JJVdGtMpPG04"
   },
   "outputs": [],
   "source": [
    "cursor = conn.cursor()"
   ]
  },
  {
   "cell_type": "code",
   "execution_count": 4,
   "metadata": {
    "colab": {
     "base_uri": "https://localhost:8080/"
    },
    "id": "SJelbaOYPEEJ",
    "outputId": "4330ca0e-3d45-4410-fe1f-d7b766588411"
   },
   "outputs": [
    {
     "data": {
      "text/plain": [
       "[('dados_cadastrais',), ('dados_profissionais',)]"
      ]
     },
     "execution_count": 4,
     "metadata": {},
     "output_type": "execute_result"
    }
   ],
   "source": [
    "cursor.execute(\"SELECT name from sqlite_master where type = 'table'\")\n",
    "cursor.fetchall()"
   ]
  },
  {
   "cell_type": "code",
   "execution_count": 5,
   "metadata": {
    "colab": {
     "base_uri": "https://localhost:8080/"
    },
    "id": "XA62fJpaPEFe",
    "outputId": "f8267f72-4adb-49fe-e36b-5427ae48fe4e"
   },
   "outputs": [
    {
     "data": {
      "text/plain": [
       "[(1, 'Maria', 'Silva', 'Rua 1 - SP', 11111211313),\n",
       " (2, 'João', 'Silva', 'Rua 2 - SP', 11111211889),\n",
       " (3, 'Pedro', 'Pereira', 'Rua 8 - SP', 11111211786),\n",
       " (4, 'Paulo', 'Ribeiro', 'Rua 9 - SP', 1111121123),\n",
       " (1, 'Maria', 'Silva', 'Rua 1 - SP', 11111211313),\n",
       " (2, 'João', 'Silva', 'Rua 2 - SP', 11111211889),\n",
       " (3, 'Pedro', 'Pereira', 'Rua 8 - SP', 11111211786),\n",
       " (4, 'Paulo', 'Ribeiro', 'Rua 9 - SP', 1111121123),\n",
       " (1, 'Maria', 'Silva', 'Rua 1 - SP', 11111211313),\n",
       " (2, 'João', 'Silva', 'Rua 2 - SP', 11111211889),\n",
       " (3, 'Pedro', 'Pereira', 'Rua 8 - SP', 11111211786),\n",
       " (4, 'Paulo', 'Ribeiro', 'Rua 9 - SP', 1111121123)]"
      ]
     },
     "execution_count": 5,
     "metadata": {},
     "output_type": "execute_result"
    }
   ],
   "source": [
    "cursor.execute(\"SELECT * FROM dados_cadastrais\")\n",
    "cursor.fetchall()"
   ]
  },
  {
   "cell_type": "code",
   "execution_count": 7,
   "metadata": {
    "colab": {
     "base_uri": "https://localhost:8080/"
    },
    "id": "qXmh-pZ0Pbzk",
    "outputId": "ff5eeab9-af81-4e1a-99a4-186bdf2bef75"
   },
   "outputs": [
    {
     "data": {
      "text/plain": [
       "[(1, 'Maria', 'Silva', 'Rua 1 - SP', 11111211313),\n",
       " (2, 'João', 'Silva', 'Rua 2 - SP', 11111211889),\n",
       " (1, 'Maria', 'Silva', 'Rua 1 - SP', 11111211313),\n",
       " (2, 'João', 'Silva', 'Rua 2 - SP', 11111211889),\n",
       " (1, 'Maria', 'Silva', 'Rua 1 - SP', 11111211313),\n",
       " (2, 'João', 'Silva', 'Rua 2 - SP', 11111211889)]"
      ]
     },
     "execution_count": 7,
     "metadata": {},
     "output_type": "execute_result"
    }
   ],
   "source": [
    "cursor.execute(\"SELECT * FROM dados_cadastrais where sobrenome == 'Silva'\")\n",
    "cursor.fetchall()"
   ]
  },
  {
   "cell_type": "code",
   "execution_count": null,
   "metadata": {},
   "outputs": [],
   "source": []
  }
 ],
 "metadata": {
  "colab": {
   "name": "Exercicio 4 (Banco de dados).ipynb",
   "provenance": []
  },
  "kernelspec": {
   "display_name": "Python 3",
   "language": "python",
   "name": "python3"
  },
  "language_info": {
   "codemirror_mode": {
    "name": "ipython",
    "version": 3
   },
   "file_extension": ".py",
   "mimetype": "text/x-python",
   "name": "python",
   "nbconvert_exporter": "python",
   "pygments_lexer": "ipython3",
   "version": "3.8.3"
  }
 },
 "nbformat": 4,
 "nbformat_minor": 1
}
