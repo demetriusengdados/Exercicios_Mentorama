{
  "nbformat": 4,
  "nbformat_minor": 0,
  "metadata": {
    "colab": {
      "name": "Exercicio 4 (Banco de dados).ipynb",
      "provenance": []
    },
    "kernelspec": {
      "name": "python3",
      "display_name": "Python 3"
    }
  },
  "cells": [
    {
      "cell_type": "code",
      "metadata": {
        "id": "G-OuV5K6PG75"
      },
      "source": [
        "import sqlite3"
      ],
      "execution_count": 1,
      "outputs": []
    },
    {
      "cell_type": "code",
      "metadata": {
        "id": "ZK11LTixPGDD",
        "outputId": "659c5865-90eb-43da-8d22-67babd4049f7",
        "colab": {
          "base_uri": "https://localhost:8080/"
        }
      },
      "source": [
        "conn = sqlite3.connect('banco_de_dados_exercicios.db')\n",
        "print(conn)"
      ],
      "execution_count": 8,
      "outputs": [
        {
          "output_type": "stream",
          "text": [
            "<sqlite3.Connection object at 0x7f772d1a8650>\n"
          ],
          "name": "stdout"
        }
      ]
    },
    {
      "cell_type": "code",
      "metadata": {
        "id": "JJVdGtMpPG04"
      },
      "source": [
        "cursor = conn.cursor()"
      ],
      "execution_count": 10,
      "outputs": []
    },
    {
      "cell_type": "code",
      "metadata": {
        "id": "huQmWpATZxan"
      },
      "source": [
        "dados_cadastrais = [('ID', 1,'Nome', 'Maria', 'Sobrenome','Silva', 'Rua', 1, 'Cidade', 'SP', 'CPF',  11111211313),\n",
        "                   ('ID', 2, 'Nome', 'João', 'Sobrenome','Silva', 'Rua', 2, 'Cidade', 'SP', 'CPF',  111111211889),\n",
        "                   ('ID', 3, 'Nome', 'Pedro', 'Sobrenome', 'Pereira', 'Rua', 8, 'Cidade', 'SP', 'CPF', 111111211786),\n",
        "                   ('ID', 4, 'Nome', 'Paulo', 'Sobrenome', 'Ribeiro', 'Rua', 9, 'Cidade', 'SP', 'CPF', 11111211123)]"
      ],
      "execution_count": 11,
      "outputs": []
    },
    {
      "cell_type": "code",
      "metadata": {
        "id": "Cvtv9Ck4Pbn8",
        "outputId": "bed7e4b0-caef-4f4e-f643-fe5c73b26320",
        "colab": {
          "base_uri": "https://localhost:8080/"
        }
      },
      "source": [
        "cursor.execute('CREATE TABLE dados_cadastrais (id integer, Nome text, Sobrenome text, Rua integer, Cidade text, CPF integer)')"
      ],
      "execution_count": 12,
      "outputs": [
        {
          "output_type": "execute_result",
          "data": {
            "text/plain": [
              "<sqlite3.Cursor at 0x7f772d097420>"
            ]
          },
          "metadata": {
            "tags": []
          },
          "execution_count": 12
        }
      ]
    },
    {
      "cell_type": "code",
      "metadata": {
        "id": "SJelbaOYPEEJ",
        "outputId": "4330ca0e-3d45-4410-fe1f-d7b766588411",
        "colab": {
          "base_uri": "https://localhost:8080/"
        }
      },
      "source": [
        "cursor.execute(\"SELECT name from sqlite_master where type = 'table'\")\n",
        "cursor.fetchall()"
      ],
      "execution_count": 13,
      "outputs": [
        {
          "output_type": "execute_result",
          "data": {
            "text/plain": [
              "[('dados_cadastrais',)]"
            ]
          },
          "metadata": {
            "tags": []
          },
          "execution_count": 13
        }
      ]
    },
    {
      "cell_type": "code",
      "metadata": {
        "id": "XA62fJpaPEFe",
        "outputId": "f8267f72-4adb-49fe-e36b-5427ae48fe4e",
        "colab": {
          "base_uri": "https://localhost:8080/"
        }
      },
      "source": [
        "cursor.execute(\"SELECT * FROM dados_cadastrais\")\n",
        "cursor.fetchall()"
      ],
      "execution_count": 14,
      "outputs": [
        {
          "output_type": "execute_result",
          "data": {
            "text/plain": [
              "[]"
            ]
          },
          "metadata": {
            "tags": []
          },
          "execution_count": 14
        }
      ]
    },
    {
      "cell_type": "code",
      "metadata": {
        "id": "qXmh-pZ0Pbzk",
        "outputId": "ff5eeab9-af81-4e1a-99a4-186bdf2bef75",
        "colab": {
          "base_uri": "https://localhost:8080/"
        }
      },
      "source": [
        "cursor.execute(\"SELECT * FROM dados_cadastrais where sobrenome = 'Silva'\")\n",
        "cursor.fetchall()"
      ],
      "execution_count": 16,
      "outputs": [
        {
          "output_type": "execute_result",
          "data": {
            "text/plain": [
              "[]"
            ]
          },
          "metadata": {
            "tags": []
          },
          "execution_count": 16
        }
      ]
    }
  ]
}